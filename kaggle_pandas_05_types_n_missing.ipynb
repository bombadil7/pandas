{
  "cells": [
    {
      "metadata": {
        "_cell_guid": "7cca0db1-ca74-47d1-b111-8af30b9a2c7b",
        "_uuid": "289d1910a57950801bde143195a7e937e8d24f97",
        "collapsed": true
      },
      "cell_type": "markdown",
      "source": "# Data types and missing data workbook\n\n## Introduction\n\nThis is the workbook component of the \"Data types and missing data\" section of the tutorial.\n\n# Relevant Resources\n- [Data Types and Missing Data Reference](https://www.kaggle.com/residentmario/data-types-and-missing-data-reference)\n\n# Set Up\n\nRun the following cell to load your data and some utility functions"
    },
    {
      "metadata": {
        "_cell_guid": "4dfdbb83-a16a-4ad3-ad8d-3bdd8074eb8b",
        "_uuid": "e5e93394edacb7f659c779a188f0a67fa6a63698",
        "trusted": true
      },
      "cell_type": "code",
      "source": "import pandas as pd\nimport seaborn as sns\nfrom learntools.advanced_pandas.data_types_missing_data import *\n\nreviews = pd.read_csv(\"../input/wine-reviews/winemag-data-130k-v2.csv\", index_col=0)\npd.set_option('max_rows', 5)",
      "execution_count": 1,
      "outputs": []
    },
    {
      "metadata": {
        "_cell_guid": "c1c0c73d-a98a-43ee-9574-fc2cbe21c10b",
        "_uuid": "cc188a91c361db215008684a4b5613b5be2eb75e"
      },
      "cell_type": "markdown",
      "source": "# Checking Answers\n\n**Check your answers in each exercise using the  `check_qN` function** (replacing `N` with the number of the exercise). For example here's how you would check an incorrect answer to exercise 1:"
    },
    {
      "metadata": {
        "_cell_guid": "005e1813-7239-4639-8c98-647cdd510284",
        "_uuid": "fc7dafb535e9041971967163e861157c1413d5c5",
        "collapsed": true,
        "trusted": false
      },
      "cell_type": "code",
      "source": "check_q1(pd.DataFrame())",
      "execution_count": null,
      "outputs": []
    },
    {
      "metadata": {
        "_cell_guid": "c97444e5-dd02-4761-86ec-03bb83297c45",
        "_uuid": "f466a6df2ed46421685268f0f161146f9c57c4dd"
      },
      "cell_type": "markdown",
      "source": "If you get stuck, **use the `answer_qN` function to see the code with the correct answer.**\n\nFor the first set of questions, running the `check_qN` on the correct answer returns `True`.\n\nFor the second set of questions, using this function to check a correct answer will present an informative graph!"
    },
    {
      "metadata": {
        "_cell_guid": "af123726-607f-4344-912d-0602a54b2483",
        "_uuid": "f5d9c7ec505fcdfe2631231a65a7e70ecb346858"
      },
      "cell_type": "markdown",
      "source": "# Exercises"
    },
    {
      "metadata": {
        "_cell_guid": "cfeb1cd2-1eb3-4e97-a159-33ed0e55796d",
        "_uuid": "866e792da2ba35ed10ad4ebf7df6b8e70ff0f174"
      },
      "cell_type": "markdown",
      "source": "**Exercise 1**: What is the data type of the `points` column in the dataset?"
    },
    {
      "metadata": {
        "_cell_guid": "5ef1aa29-3b6c-4c98-95b1-f8f5beff80df",
        "_uuid": "a86159e79b1723be259de83d46805177d88aa290",
        "trusted": true
      },
      "cell_type": "code",
      "source": "reviews.points.dtype",
      "execution_count": 4,
      "outputs": [
        {
          "output_type": "execute_result",
          "execution_count": 4,
          "data": {
            "text/plain": "dtype('int64')"
          },
          "metadata": {}
        }
      ]
    },
    {
      "metadata": {
        "_cell_guid": "f29b7905-b694-4304-982a-6ae614b4db0f",
        "_uuid": "ac053dbdbfc9a3727955e891eab55fe5778811fd"
      },
      "cell_type": "markdown",
      "source": "**Exercise 2**: Create a `Series` from entries in the `price` column, but convert the entries to strings. Hint: strings are `str` in native Python."
    },
    {
      "metadata": {
        "_cell_guid": "8fd55c35-2654-486e-8fa3-87857e3070dd",
        "_uuid": "137fef2ea29471c0cdbcaf18fa718f5e781f9e23",
        "trusted": true
      },
      "cell_type": "code",
      "source": "reviews.price.astype('str')",
      "execution_count": 8,
      "outputs": [
        {
          "output_type": "execute_result",
          "execution_count": 8,
          "data": {
            "text/plain": "0          nan\n1         15.0\n          ... \n129969    32.0\n129970    21.0\nName: price, Length: 129971, dtype: object"
          },
          "metadata": {}
        }
      ]
    },
    {
      "metadata": {
        "_cell_guid": "9bd9a7fe-22a8-4ebf-86f4-bfaefdccc207",
        "_uuid": "e019e377bb4aa3933641a0ce27cdead35cac07dc"
      },
      "cell_type": "markdown",
      "source": "Here are a few visual exercises on missing data.\n\n**Exercise 3**: Some wines do not list a price. How often does this occur? Generate a `Series`that, for each review in the dataset, states whether the wine reviewed has a null `price`."
    },
    {
      "metadata": {
        "_cell_guid": "683a0721-08dd-48c9-ad98-2ef711353fed",
        "_uuid": "c8eb98ff4b269d7f80001df982af1842b484c272",
        "trusted": true
      },
      "cell_type": "code",
      "source": "check_q3(reviews.price.isnull())",
      "execution_count": 10,
      "outputs": [
        {
          "output_type": "execute_result",
          "execution_count": 10,
          "data": {
            "text/plain": "<matplotlib.axes._subplots.AxesSubplot at 0x7f9e51512a58>"
          },
          "metadata": {}
        },
        {
          "output_type": "display_data",
          "data": {
            "text/plain": "<Figure size 432x288 with 1 Axes>",
            "image/png": "[encoded data removed]"
          },
          "metadata": {
            "needs_background": "light"
          }
        }
      ]
    },
    {
      "metadata": {
        "_cell_guid": "ca0e4317-1db0-4b1a-8c62-6ab89ba2549f",
        "_uuid": "2814d97e0aa5b5167f1b023f75f3705afbfa933f"
      },
      "cell_type": "markdown",
      "source": "**Exercise 4**: What are the most common wine-producing regions? Create a `Series` counting the number of times each value occurs in the `region_1` field. This field is often missing data, so replace missing values with `Unknown`. Sort in descending order.  Your output should look something like this:\n\n```\nUnknown                    21247\nNapa Valley                 4480\n                           ...  \nBardolino Superiore            1\nPrimitivo del Tarantino        1\nName: region_1, Length: 1230, dtype: int64\n```"
    },
    {
      "metadata": {
        "_cell_guid": "51499784-a100-4990-8033-f837146c577b",
        "_uuid": "00876754dfa4d9a5a992ea4c9135d3b9ffab7152",
        "trusted": true
      },
      "cell_type": "code",
      "source": "reviews.region_1.fillna('Unknown').value_counts()",
      "execution_count": 18,
      "outputs": [
        {
          "output_type": "execute_result",
          "execution_count": 18,
          "data": {
            "text/plain": "Unknown                    21247\nNapa Valley                 4480\n                           ...  \nClairette de Bellegarde        1\nMonferrato Bianco              1\nName: region_1, Length: 1230, dtype: int64"
          },
          "metadata": {}
        }
      ]
    },
    {
      "metadata": {
        "_cell_guid": "2eca8be4-d277-4c27-b488-3b0809ed7ea4",
        "_uuid": "5810dc50846cfdfc98108f8a32f7e1a94f5599a5"
      },
      "cell_type": "markdown",
      "source": "**Exercise 5**: A neat property of boolean data types, like the ones created by the `isnull()` method, is that `False` gets treated as 0 and `True` as 1 when performing math on the values. Thus, the `sum()` of a list of boolean values will return how many times `True` appears in that list.\nCreate a `pandas` `Series` showing how many times each of the columns in the dataset contains null values. Your result should look something like this:\n\n```\ncountry        63\ndescription     0\n               ..\nvariety         1\nwinery          0\nLength: 13, dtype: int64\n```\n\nHint: write a map that will extract the vintage of each wine in the dataset. The vintages reviewed range from 2000 to 2017, no earlier or later. Use `fillna` to impute the missing values."
    },
    {
      "metadata": {
        "_cell_guid": "9ec8f6f7-78e2-46ca-8f19-daf3e9c37f1a",
        "_uuid": "6e715428e768fb77db3dcf28650639962562bf70",
        "trusted": true
      },
      "cell_type": "code",
      "source": "reviews.isnull().sum()",
      "execution_count": 21,
      "outputs": [
        {
          "output_type": "execute_result",
          "execution_count": 21,
          "data": {
            "text/plain": "country        63\ndescription     0\n               ..\nvariety         1\nwinery          0\nLength: 13, dtype: int64"
          },
          "metadata": {}
        }
      ]
    },
    {
      "metadata": {
        "_cell_guid": "5b324634-6ad9-4964-b016-adc572cb1bc8",
        "_uuid": "ed76a59f607e65f2a5093618265cfed5385d4a31"
      },
      "cell_type": "markdown",
      "source": "# Keep going\nMove on to the [**Renaming and combining workbook**](https://www.kaggle.com/kernels/fork/598826)"
    }
  ],
  "metadata": {
    "language_info": {
      "name": "python",
      "version": "3.6.6",
      "mimetype": "text/x-python",
      "codemirror_mode": {
        "name": "ipython",
        "version": 3
      },
      "pygments_lexer": "ipython3",
      "nbconvert_exporter": "python",
      "file_extension": ".py"
    },
    "kernelspec": {
      "display_name": "Python 3",
      "language": "python",
      "name": "python3"
    }
  },
  "nbformat": 4,
  "nbformat_minor": 1
}