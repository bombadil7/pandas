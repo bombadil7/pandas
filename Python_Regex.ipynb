{
 "cells": [
  {
   "cell_type": "markdown",
   "metadata": {},
   "source": [
    "# Regular Expressions\n",
    "\n",
    "Regualar expressions live in **re** module, which is part of the standard library. **re.match** does the job.  Notice: the pattern must match from the beginning of the word!"
   ]
  },
  {
   "cell_type": "code",
   "execution_count": 2,
   "metadata": {},
   "outputs": [
    {
     "name": "stdout",
     "output_type": "stream",
     "text": [
      "Match\n"
     ]
    }
   ],
   "source": [
    "import re\n",
    "pattern = r\"spam\"\n",
    "\n",
    "if re.match(pattern, \"spamspamspam\"):\n",
    "    print(\"Match\")\n",
    "else:\n",
    "    print(\"No match\")"
   ]
  },
  {
   "cell_type": "markdown",
   "metadata": {},
   "source": [
    "Other functions are **re.search** and **re.findall**.  **re.search** finds a match anywhere in the string, **re.findall** returns all substrings that match.  **re.finditer** is like **re.findall**, except it returns an iterator instead of a list."
   ]
  },
  {
   "cell_type": "code",
   "execution_count": 5,
   "metadata": {},
   "outputs": [
    {
     "name": "stdout",
     "output_type": "stream",
     "text": [
      "No match\n",
      "Match\n",
      "['spam', 'spam']\n",
      "<callable_iterator object at 0x0000026B15DBA588>\n"
     ]
    }
   ],
   "source": [
    "import re\n",
    "pattern = r\"spam\"\n",
    "\n",
    "if re.match(pattern, \"eggspamsausagespam\"):\n",
    "    print(\"Match\")\n",
    "else:\n",
    "    print(\"No match\")\n",
    "    \n",
    "if re.search(pattern, \"eggspamsausagespam\"):\n",
    "    print(\"Match\")\n",
    "else:\n",
    "    print(\"No match\")\n",
    "    \n",
    "print(re.findall(pattern, \"eggspamsausagespam\"))\n",
    "print(re.finditer(pattern, \"eggspamsausagespam\"))"
   ]
  },
  {
   "cell_type": "code",
   "execution_count": null,
   "metadata": {},
   "outputs": [],
   "source": []
  }
 ],
 "metadata": {
  "kernelspec": {
   "display_name": "Python 3",
   "language": "python",
   "name": "python3"
  },
  "language_info": {
   "codemirror_mode": {
    "name": "ipython",
    "version": 3
   },
   "file_extension": ".py",
   "mimetype": "text/x-python",
   "name": "python",
   "nbconvert_exporter": "python",
   "pygments_lexer": "ipython3",
   "version": "3.6.5"
  }
 },
 "nbformat": 4,
 "nbformat_minor": 2
}
