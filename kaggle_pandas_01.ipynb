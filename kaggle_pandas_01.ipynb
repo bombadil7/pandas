{
  "cells": [
    {
      "metadata": {
        "_uuid": "c20e15fb7c17fa437c9734129d3c9690a9240c75",
        "_cell_guid": "a8203c90-46ec-4958-9041-829e81d92e42",
        "trusted": true
      },
      "cell_type": "code",
      "source": "import pandas as pd\npd.set_option('max_rows', 5)\nfrom learntools.advanced_pandas.creating_reading_writing import *",
      "execution_count": 1,
      "outputs": []
    },
    {
      "metadata": {
        "_uuid": "157aa9d4c746b08ced9390f00eca8941512a548d",
        "_cell_guid": "b0f57fdb-3a89-4b0e-980b-c80591b48471"
      },
      "cell_type": "markdown",
      "source": "# Checking Answers\n\nYou can check your answers in each of the exercises that follow using the  `check_qN` function provided in the code cell above (replacing `N` with the number of the exercise). For example here's how you would check an incorrect answer to exercise 1:"
    },
    {
      "metadata": {
        "_uuid": "e035d9f77a32545280adecc63ab1dc0263b3c9aa",
        "_cell_guid": "795c8aa5-8eb7-4320-a4a3-09fed84175b2",
        "trusted": true
      },
      "cell_type": "code",
      "source": "check_q1(pd.DataFrame())",
      "execution_count": null,
      "outputs": []
    },
    {
      "metadata": {
        "_uuid": "181dc283018b4503cfccef4dbbd3981e1ab4302f",
        "_cell_guid": "67d4c62f-36f7-46c7-bd2d-75c6d8f0e616"
      },
      "cell_type": "markdown",
      "source": "For the questions that follow, if you use `check_qN` on your answer, and your answer is right, a simple `True` value will be returned.\n\nIf you get stuck, you may run the `print(answer_qN())` function to print the answer outright."
    },
    {
      "metadata": {
        "_uuid": "2c6420c707d14bae3a0b817c2f0aa045bbc470ee",
        "_cell_guid": "1d588271-b244-4ab5-a66f-2b3963fadc82"
      },
      "cell_type": "markdown",
      "source": "# Exercises"
    },
    {
      "metadata": {
        "_uuid": "b1a7567d6334c841e00f390ec42128f0f10e0a41",
        "_cell_guid": "5df74d84-9491-4057-a01d-cf40a3d1d39d"
      },
      "cell_type": "markdown",
      "source": "**Exercise 1**: Create a `DataFrame` that looks like this:\n\n![](https://i.imgur.com/Ax3pp2A.png)"
    },
    {
      "metadata": {
        "_uuid": "db8fd0bdecea1eb3f74ed075101ce676272a3f57",
        "_cell_guid": "88885c4a-8cbd-494e-a8be-261aa5845ab0",
        "trusted": true
      },
      "cell_type": "code",
      "source": "import pandas as pd\nimport numpy as np\nfrom learntools.advanced_pandas.creating_reading_writing import *\npd.DataFrame({'Apples' : [30], 'Bananas' : [21]})",
      "execution_count": 2,
      "outputs": [
        {
          "output_type": "execute_result",
          "execution_count": 2,
          "data": {
            "text/plain": "   Apples  Bananas\n0      30       21",
            "text/html": "<div>\n<style scoped>\n    .dataframe tbody tr th:only-of-type {\n        vertical-align: middle;\n    }\n\n    .dataframe tbody tr th {\n        vertical-align: top;\n    }\n\n    .dataframe thead th {\n        text-align: right;\n    }\n</style>\n<table border=\"1\" class=\"dataframe\">\n  <thead>\n    <tr style=\"text-align: right;\">\n      <th></th>\n      <th>Apples</th>\n      <th>Bananas</th>\n    </tr>\n  </thead>\n  <tbody>\n    <tr>\n      <th>0</th>\n      <td>30</td>\n      <td>21</td>\n    </tr>\n  </tbody>\n</table>\n</div>"
          },
          "metadata": {}
        }
      ]
    },
    {
      "metadata": {
        "_uuid": "85f5963c04c230b4b1a440b0bd2e4795a51f63c9",
        "_cell_guid": "1d16dae3-41c5-4e2a-ba54-80838e171113"
      },
      "cell_type": "markdown",
      "source": "**Exercise 2**: Create the following `DataFrame`:\n\n![](https://i.imgur.com/CHPn7ZF.png)"
    },
    {
      "metadata": {
        "_uuid": "0f81afe385af4dde0314850a80d4adf508ad91f2",
        "_cell_guid": "76d8939b-5a37-45cd-adbe-01ceb93b5211",
        "trusted": true
      },
      "cell_type": "code",
      "source": "import pandas as pd\nimport numpy as np\nfrom learntools.advanced_pandas.creating_reading_writing import *\ni = ['2017 Sales','2018 Sales']\nd = np.array([[35,21],[41,34]])\npd.DataFrame(d, index = i, columns=['Apples','Bananas'])",
      "execution_count": 3,
      "outputs": [
        {
          "output_type": "execute_result",
          "execution_count": 3,
          "data": {
            "text/plain": "            Apples  Bananas\n2017 Sales      35       21\n2018 Sales      41       34",
            "text/html": "<div>\n<style scoped>\n    .dataframe tbody tr th:only-of-type {\n        vertical-align: middle;\n    }\n\n    .dataframe tbody tr th {\n        vertical-align: top;\n    }\n\n    .dataframe thead th {\n        text-align: right;\n    }\n</style>\n<table border=\"1\" class=\"dataframe\">\n  <thead>\n    <tr style=\"text-align: right;\">\n      <th></th>\n      <th>Apples</th>\n      <th>Bananas</th>\n    </tr>\n  </thead>\n  <tbody>\n    <tr>\n      <th>2017 Sales</th>\n      <td>35</td>\n      <td>21</td>\n    </tr>\n    <tr>\n      <th>2018 Sales</th>\n      <td>41</td>\n      <td>34</td>\n    </tr>\n  </tbody>\n</table>\n</div>"
          },
          "metadata": {}
        }
      ]
    },
    {
      "metadata": {
        "_uuid": "b3e38780c5306bcdd2d466fd741bca7445dca7d9",
        "_cell_guid": "adde33ec-19de-45cf-8de7-9740a7bc3172"
      },
      "cell_type": "markdown",
      "source": "**Exercise 3**: Create a `Series` that looks like this:\n\n```\nFlour     4 cups\nMilk       1 cup\nEggs     2 large\nSpam       1 can\nName: Dinner, dtype: object\n```"
    },
    {
      "metadata": {
        "_uuid": "22a5a566e7705cb57f15b6c15e5e64ed078d4627",
        "_cell_guid": "fc088fde-32bd-4a26-97f1-efbe1f851a4b",
        "trusted": true
      },
      "cell_type": "code",
      "source": "import pandas as pd\nimport numpy as np\nfrom learntools.advanced_pandas.creating_reading_writing import *\n#check_q3(pd.Series(['4 cups','1 cup','2 large','1 can'],index=['Flour','Milk','Eggs','Spam'],name='Dinner'))\npd.Series(['4 cups','1 cup','2 large','1 can'],index=['Flour','Milk','Eggs','Spam'],name='Dinner')\n",
      "execution_count": 4,
      "outputs": [
        {
          "output_type": "execute_result",
          "execution_count": 4,
          "data": {
            "text/plain": "Flour     4 cups\nMilk       1 cup\nEggs     2 large\nSpam       1 can\nName: Dinner, dtype: object"
          },
          "metadata": {}
        }
      ]
    },
    {
      "metadata": {
        "_uuid": "b8c7ad15d6448e4b95f99cc64def47fdae10ab89",
        "_cell_guid": "b26ad337-26e6-4a6b-9fbc-d9106d308a8b"
      },
      "cell_type": "markdown",
      "source": "**Exercise 4**: Read the following `csv` dataset on wine reviews into the a `DataFrame`:\n\n![](https://i.imgur.com/74RCZtU.png)\n\nThe filepath to the CSV file is `../input/wine-reviews/winemag-data_first150k.csv`."
    },
    {
      "metadata": {
        "_uuid": "4c31028faf310cec34dd1cd38bf579c63a487e6f",
        "_cell_guid": "7b2fe999-1497-428c-bf48-c163e20a0476",
        "trusted": true
      },
      "cell_type": "code",
      "source": "import pandas as pd\nimport numpy as np\nfrom learntools.advanced_pandas.creating_reading_writing import *\ndf = pd.read_csv(\"../input/wine-reviews/winemag-data_first150k.csv\", index_col=0)\n#check_q4(df)\n#df.head()\n#answer_q4()",
      "execution_count": 6,
      "outputs": []
    },
    {
      "metadata": {
        "_uuid": "11f3989183a6ab1a147055c36fa15a85e2c8e20a",
        "_cell_guid": "d7ebade5-7677-4026-ac97-00383ab536fe",
        "collapsed": true
      },
      "cell_type": "markdown",
      "source": "**Exercise 5**: Read the following `xls` sheet into a `DataFrame`: \n\n![](https://i.imgur.com/QZJBIBF.png)\n\nThe filepath to the XLS file is `../input/publicassistance/xls_files_all/WICAgencies2014ytd.xls`.\n\nHint: the name of the method you need inclues the word `excel`. The name of the sheet is `Pregnant Women Participating`. Don't do any cleanup."
    },
    {
      "metadata": {
        "_uuid": "d64e2781ac696d8acfbba11b567a86b7d25526b1",
        "_cell_guid": "5dbc2d5d-e110-4f7b-8086-96d28825507b",
        "trusted": true
      },
      "cell_type": "code",
      "source": "import pandas as pd\nimport numpy as np\nfrom learntools.advanced_pandas.creating_reading_writing import *\n#check_q5(pd.read_excel(\"../input/publicassistance/xls_files_all/WICAgencies2014ytd.xls\", sheet_name=\"Pregnant Women Participating\", index_col=0))\npd.read_excel(\"../input/publicassistance/xls_files_all/WICAgencies2014ytd.xls\", \n                       sheetname=\"Pregnant Women Participating\")\n#check_q5(pd.read_csv(\"../input/publicassistance/sub-est2016_all.csv\", index_col=0))\n#print(answer_q5())",
      "execution_count": 7,
      "outputs": [
        {
          "output_type": "error",
          "ename": "FileNotFoundError",
          "evalue": "[Errno 2] No such file or directory: '../input/publicassistance/xls_files_all/WICAgencies2014ytd.xls'",
          "traceback": [
            "\u001b[0;31m---------------------------------------------------------------------------\u001b[0m",
            "\u001b[0;31mFileNotFoundError\u001b[0m                         Traceback (most recent call last)",
            "\u001b[0;32m<ipython-input-7-63d988ec5af6>\u001b[0m in \u001b[0;36m<module>\u001b[0;34m\u001b[0m\n\u001b[1;32m      4\u001b[0m \u001b[0;31m#check_q5(pd.read_excel(\"../input/publicassistance/xls_files_all/WICAgencies2014ytd.xls\", sheet_name=\"Pregnant Women Participating\", index_col=0))\u001b[0m\u001b[0;34m\u001b[0m\u001b[0;34m\u001b[0m\u001b[0m\n\u001b[1;32m      5\u001b[0m pd.read_excel(\"../input/publicassistance/xls_files_all/WICAgencies2014ytd.xls\", \n\u001b[0;32m----> 6\u001b[0;31m                        sheetname=\"Pregnant Women Participating\")\n\u001b[0m\u001b[1;32m      7\u001b[0m \u001b[0;31m#check_q5(pd.read_csv(\"../input/publicassistance/sub-est2016_all.csv\", index_col=0))\u001b[0m\u001b[0;34m\u001b[0m\u001b[0;34m\u001b[0m\u001b[0m\n\u001b[1;32m      8\u001b[0m \u001b[0;31m#print(answer_q5())\u001b[0m\u001b[0;34m\u001b[0m\u001b[0;34m\u001b[0m\u001b[0m\n",
            "\u001b[0;32m/opt/conda/lib/python3.6/site-packages/pandas/util/_decorators.py\u001b[0m in \u001b[0;36mwrapper\u001b[0;34m(*args, **kwargs)\u001b[0m\n\u001b[1;32m    176\u001b[0m                 \u001b[0;32melse\u001b[0m\u001b[0;34m:\u001b[0m\u001b[0;34m\u001b[0m\u001b[0m\n\u001b[1;32m    177\u001b[0m                     \u001b[0mkwargs\u001b[0m\u001b[0;34m[\u001b[0m\u001b[0mnew_arg_name\u001b[0m\u001b[0;34m]\u001b[0m \u001b[0;34m=\u001b[0m \u001b[0mnew_arg_value\u001b[0m\u001b[0;34m\u001b[0m\u001b[0m\n\u001b[0;32m--> 178\u001b[0;31m             \u001b[0;32mreturn\u001b[0m \u001b[0mfunc\u001b[0m\u001b[0;34m(\u001b[0m\u001b[0;34m*\u001b[0m\u001b[0margs\u001b[0m\u001b[0;34m,\u001b[0m \u001b[0;34m**\u001b[0m\u001b[0mkwargs\u001b[0m\u001b[0;34m)\u001b[0m\u001b[0;34m\u001b[0m\u001b[0m\n\u001b[0m\u001b[1;32m    179\u001b[0m         \u001b[0;32mreturn\u001b[0m \u001b[0mwrapper\u001b[0m\u001b[0;34m\u001b[0m\u001b[0m\n\u001b[1;32m    180\u001b[0m     \u001b[0;32mreturn\u001b[0m \u001b[0m_deprecate_kwarg\u001b[0m\u001b[0;34m\u001b[0m\u001b[0m\n",
            "\u001b[0;32m/opt/conda/lib/python3.6/site-packages/pandas/util/_decorators.py\u001b[0m in \u001b[0;36mwrapper\u001b[0;34m(*args, **kwargs)\u001b[0m\n\u001b[1;32m    176\u001b[0m                 \u001b[0;32melse\u001b[0m\u001b[0;34m:\u001b[0m\u001b[0;34m\u001b[0m\u001b[0m\n\u001b[1;32m    177\u001b[0m                     \u001b[0mkwargs\u001b[0m\u001b[0;34m[\u001b[0m\u001b[0mnew_arg_name\u001b[0m\u001b[0;34m]\u001b[0m \u001b[0;34m=\u001b[0m \u001b[0mnew_arg_value\u001b[0m\u001b[0;34m\u001b[0m\u001b[0m\n\u001b[0;32m--> 178\u001b[0;31m             \u001b[0;32mreturn\u001b[0m \u001b[0mfunc\u001b[0m\u001b[0;34m(\u001b[0m\u001b[0;34m*\u001b[0m\u001b[0margs\u001b[0m\u001b[0;34m,\u001b[0m \u001b[0;34m**\u001b[0m\u001b[0mkwargs\u001b[0m\u001b[0;34m)\u001b[0m\u001b[0;34m\u001b[0m\u001b[0m\n\u001b[0m\u001b[1;32m    179\u001b[0m         \u001b[0;32mreturn\u001b[0m \u001b[0mwrapper\u001b[0m\u001b[0;34m\u001b[0m\u001b[0m\n\u001b[1;32m    180\u001b[0m     \u001b[0;32mreturn\u001b[0m \u001b[0m_deprecate_kwarg\u001b[0m\u001b[0;34m\u001b[0m\u001b[0m\n",
            "\u001b[0;32m/opt/conda/lib/python3.6/site-packages/pandas/io/excel.py\u001b[0m in \u001b[0;36mread_excel\u001b[0;34m(io, sheet_name, header, names, index_col, usecols, squeeze, dtype, engine, converters, true_values, false_values, skiprows, nrows, na_values, parse_dates, date_parser, thousands, comment, skipfooter, convert_float, **kwds)\u001b[0m\n\u001b[1;32m    305\u001b[0m \u001b[0;34m\u001b[0m\u001b[0m\n\u001b[1;32m    306\u001b[0m     \u001b[0;32mif\u001b[0m \u001b[0;32mnot\u001b[0m \u001b[0misinstance\u001b[0m\u001b[0;34m(\u001b[0m\u001b[0mio\u001b[0m\u001b[0;34m,\u001b[0m \u001b[0mExcelFile\u001b[0m\u001b[0;34m)\u001b[0m\u001b[0;34m:\u001b[0m\u001b[0;34m\u001b[0m\u001b[0m\n\u001b[0;32m--> 307\u001b[0;31m         \u001b[0mio\u001b[0m \u001b[0;34m=\u001b[0m \u001b[0mExcelFile\u001b[0m\u001b[0;34m(\u001b[0m\u001b[0mio\u001b[0m\u001b[0;34m,\u001b[0m \u001b[0mengine\u001b[0m\u001b[0;34m=\u001b[0m\u001b[0mengine\u001b[0m\u001b[0;34m)\u001b[0m\u001b[0;34m\u001b[0m\u001b[0m\n\u001b[0m\u001b[1;32m    308\u001b[0m \u001b[0;34m\u001b[0m\u001b[0m\n\u001b[1;32m    309\u001b[0m     return io.parse(\n",
            "\u001b[0;32m/opt/conda/lib/python3.6/site-packages/pandas/io/excel.py\u001b[0m in \u001b[0;36m__init__\u001b[0;34m(self, io, **kwds)\u001b[0m\n\u001b[1;32m    392\u001b[0m             \u001b[0mself\u001b[0m\u001b[0;34m.\u001b[0m\u001b[0mbook\u001b[0m \u001b[0;34m=\u001b[0m \u001b[0mxlrd\u001b[0m\u001b[0;34m.\u001b[0m\u001b[0mopen_workbook\u001b[0m\u001b[0;34m(\u001b[0m\u001b[0mfile_contents\u001b[0m\u001b[0;34m=\u001b[0m\u001b[0mdata\u001b[0m\u001b[0;34m)\u001b[0m\u001b[0;34m\u001b[0m\u001b[0m\n\u001b[1;32m    393\u001b[0m         \u001b[0;32melif\u001b[0m \u001b[0misinstance\u001b[0m\u001b[0;34m(\u001b[0m\u001b[0mself\u001b[0m\u001b[0;34m.\u001b[0m\u001b[0m_io\u001b[0m\u001b[0;34m,\u001b[0m \u001b[0mcompat\u001b[0m\u001b[0;34m.\u001b[0m\u001b[0mstring_types\u001b[0m\u001b[0;34m)\u001b[0m\u001b[0;34m:\u001b[0m\u001b[0;34m\u001b[0m\u001b[0m\n\u001b[0;32m--> 394\u001b[0;31m             \u001b[0mself\u001b[0m\u001b[0;34m.\u001b[0m\u001b[0mbook\u001b[0m \u001b[0;34m=\u001b[0m \u001b[0mxlrd\u001b[0m\u001b[0;34m.\u001b[0m\u001b[0mopen_workbook\u001b[0m\u001b[0;34m(\u001b[0m\u001b[0mself\u001b[0m\u001b[0;34m.\u001b[0m\u001b[0m_io\u001b[0m\u001b[0;34m)\u001b[0m\u001b[0;34m\u001b[0m\u001b[0m\n\u001b[0m\u001b[1;32m    395\u001b[0m         \u001b[0;32melse\u001b[0m\u001b[0;34m:\u001b[0m\u001b[0;34m\u001b[0m\u001b[0m\n\u001b[1;32m    396\u001b[0m             raise ValueError('Must explicitly set engine if not passing in'\n",
            "\u001b[0;32m/opt/conda/lib/python3.6/site-packages/xlrd/__init__.py\u001b[0m in \u001b[0;36mopen_workbook\u001b[0;34m(filename, logfile, verbosity, use_mmap, file_contents, encoding_override, formatting_info, on_demand, ragged_rows)\u001b[0m\n\u001b[1;32m    114\u001b[0m         \u001b[0mpeek\u001b[0m \u001b[0;34m=\u001b[0m \u001b[0mfile_contents\u001b[0m\u001b[0;34m[\u001b[0m\u001b[0;34m:\u001b[0m\u001b[0mpeeksz\u001b[0m\u001b[0;34m]\u001b[0m\u001b[0;34m\u001b[0m\u001b[0m\n\u001b[1;32m    115\u001b[0m     \u001b[0;32melse\u001b[0m\u001b[0;34m:\u001b[0m\u001b[0;34m\u001b[0m\u001b[0m\n\u001b[0;32m--> 116\u001b[0;31m         \u001b[0;32mwith\u001b[0m \u001b[0mopen\u001b[0m\u001b[0;34m(\u001b[0m\u001b[0mfilename\u001b[0m\u001b[0;34m,\u001b[0m \u001b[0;34m\"rb\"\u001b[0m\u001b[0;34m)\u001b[0m \u001b[0;32mas\u001b[0m \u001b[0mf\u001b[0m\u001b[0;34m:\u001b[0m\u001b[0;34m\u001b[0m\u001b[0m\n\u001b[0m\u001b[1;32m    117\u001b[0m             \u001b[0mpeek\u001b[0m \u001b[0;34m=\u001b[0m \u001b[0mf\u001b[0m\u001b[0;34m.\u001b[0m\u001b[0mread\u001b[0m\u001b[0;34m(\u001b[0m\u001b[0mpeeksz\u001b[0m\u001b[0;34m)\u001b[0m\u001b[0;34m\u001b[0m\u001b[0m\n\u001b[1;32m    118\u001b[0m     \u001b[0;32mif\u001b[0m \u001b[0mpeek\u001b[0m \u001b[0;34m==\u001b[0m \u001b[0;34mb\"PK\\x03\\x04\"\u001b[0m\u001b[0;34m:\u001b[0m \u001b[0;31m# a ZIP file\u001b[0m\u001b[0;34m\u001b[0m\u001b[0m\n",
            "\u001b[0;31mFileNotFoundError\u001b[0m: [Errno 2] No such file or directory: '../input/publicassistance/xls_files_all/WICAgencies2014ytd.xls'"
          ]
        }
      ]
    },
    {
      "metadata": {
        "_uuid": "8075f4da95182203626c69d8b28acd7fe9660d2a",
        "_cell_guid": "915faad5-6110-4cb2-9dcb-bce167878e27"
      },
      "cell_type": "markdown",
      "source": "**Exercise 6**: Suppose we have the following `DataFrame`:"
    },
    {
      "metadata": {
        "_uuid": "c3353ca46fd3817a4569fb5ed4bb82dd3846c934",
        "_cell_guid": "e2924830-6ec4-41ec-8e29-5606298ce928",
        "trusted": true
      },
      "cell_type": "code",
      "source": "q6_df = pd.DataFrame({'Cows': [12, 20], 'Goats': [22, 19]}, index=['Year 1', 'Year 2'])",
      "execution_count": 8,
      "outputs": []
    },
    {
      "metadata": {
        "_uuid": "e28acd9d39b24d0823af4dd832d9bc7240030434",
        "_cell_guid": "7bf43a01-3c69-4a51-9061-012581f004f5"
      },
      "cell_type": "markdown",
      "source": "Save this `DataFrame` to disc as a `csv` file with the name `cows_and_goats.csv`."
    },
    {
      "metadata": {
        "_uuid": "d450cb71dd6cab95c7f604d30505534c562c854f",
        "_cell_guid": "3e60ff82-a7d5-4712-81fd-6ca0851687f5",
        "trusted": true
      },
      "cell_type": "code",
      "source": "import pandas as pd\nimport numpy as np\nfrom learntools.advanced_pandas.creating_reading_writing import *\nq6_df = pd.DataFrame({'Cows': [12, 20], 'Goats': [22, 19]}, index=['Year 1', 'Year 2'])\nq6_df.to_csv(\"cows_and_goats.csv\")",
      "execution_count": 9,
      "outputs": []
    },
    {
      "metadata": {
        "_uuid": "d0672be743ede0fc750c9c2b385ea8838e88c841",
        "_cell_guid": "209d5beb-afc8-4c0c-a062-b8b9f82371d3"
      },
      "cell_type": "markdown",
      "source": "**Exercise 7**: This exercise is optional. Read the following `SQL` data into a `DataFrame`:\n\n![](https://i.imgur.com/mmvbOT3.png)\n\nThe filepath is `../input/pitchfork-data/database.sqlite`. Hint: use the `sqlite3` library. The name of the table is `artists`."
    },
    {
      "metadata": {
        "_uuid": "682790cef8f7d390e5a0ac16af017a6500bab41c",
        "_cell_guid": "7f322fbf-6322-414b-a682-3f57edb7d664",
        "trusted": true
      },
      "cell_type": "code",
      "source": "import pandas as pd\nimport numpy as np\nimport sqlite3\nfrom learntools.advanced_pandas.creating_reading_writing import *\nconnection = sqlite3.connect(\"../input/pitchfork-data/database.sqlite\")\npd.read_sql_query(\"SELECT * FROM artists\", connection)",
      "execution_count": null,
      "outputs": []
    },
    {
      "metadata": {
        "_uuid": "362d33a7f561e3b9b72034bc7ac1a23a49e1de89",
        "_cell_guid": "df1aeded-b46d-4893-a274-3f0c9bebdb11"
      },
      "cell_type": "markdown",
      "source": "## Keep going\n\nMove on to the **[indexing, selecting and assigning workbook](https://www.kaggle.com/kernels/fork/587910)**\n\n___\nThis is part of the [Learn Pandas](https://www.kaggle.com/learn/pandas) series."
    }
  ],
  "metadata": {
    "language_info": {
      "name": "python",
      "version": "3.6.6",
      "mimetype": "text/x-python",
      "codemirror_mode": {
        "name": "ipython",
        "version": 3
      },
      "pygments_lexer": "ipython3",
      "nbconvert_exporter": "python",
      "file_extension": ".py"
    },
    "kernelspec": {
      "display_name": "Python 3",
      "language": "python",
      "name": "python3"
    }
  },
  "nbformat": 4,
  "nbformat_minor": 1
}